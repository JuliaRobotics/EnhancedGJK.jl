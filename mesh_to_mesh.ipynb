{
 "cells": [
  {
   "cell_type": "code",
   "execution_count": 31,
   "metadata": {
    "collapsed": false
   },
   "outputs": [],
   "source": [
    "using MeshIO\n",
    "using FileIO\n",
    "using GeometryTypes\n",
    "using CoordinateTransformations\n",
    "using StaticArrays\n",
    "using BenchmarkTools\n",
    "import EnhancedGJK"
   ]
  },
  {
   "cell_type": "code",
   "execution_count": 26,
   "metadata": {
    "collapsed": false
   },
   "outputs": [
    {
     "name": "stderr",
     "output_type": "stream",
     "text": [
      "WARNING: replacing module EnhancedGJK\n"
     ]
    }
   ],
   "source": [
    "reload(\"EnhancedGJK\")"
   ]
  },
  {
   "cell_type": "code",
   "execution_count": 27,
   "metadata": {
    "collapsed": false
   },
   "outputs": [
    {
     "data": {
      "text/plain": [
       "HomogenousMesh(\n",
       "    normals: 27xGeometryTypes.Normal{3,Float32},     vertices: 27xFixedSizeArrays.Point{3,Float32},     faces: 50xGeometryTypes.Face{3,UInt32,-1}, )\n"
      ]
     },
     "execution_count": 27,
     "metadata": {},
     "output_type": "execute_result"
    }
   ],
   "source": [
    "mesh = load(\"test/meshes/r_foot_chull.obj\")"
   ]
  },
  {
   "cell_type": "code",
   "execution_count": 28,
   "metadata": {
    "collapsed": false
   },
   "outputs": [],
   "source": [
    "cache = EnhancedGJK.CollisionCache(mesh, mesh);"
   ]
  },
  {
   "cell_type": "code",
   "execution_count": 29,
   "metadata": {
    "collapsed": false
   },
   "outputs": [
    {
     "data": {
      "text/plain": [
       "EnhancedGJK.GJKResult{4,3,Float64}(StaticArrays.SVector{3,Float64}[[-0.736281,-0.004611,-0.026484],[-0.736281,0.061285,-0.026484],[-0.73642,-0.056295,-0.027236],[-1.17187,-0.134268,-0.048281]],EnhancedGJK.Difference{StaticArrays.SVector{3,Float64},StaticArrays.SVector{3,Float64}}([0.172786,-0.030079,-0.055794],[-0.090933,-0.030079,-0.02931]),0.7367571604043536)"
      ]
     },
     "execution_count": 29,
     "metadata": {},
     "output_type": "execute_result"
    }
   ],
   "source": [
    "result = EnhancedGJK.gjk!(cache, IdentityTransformation(), Translation(SVector(1.0, 0, 0)) )"
   ]
  },
  {
   "cell_type": "code",
   "execution_count": 32,
   "metadata": {
    "collapsed": false
   },
   "outputs": [
    {
     "data": {
      "text/plain": [
       "BenchmarkTools.Trial: \n",
       "  memory estimate:  0.00 bytes\n",
       "  allocs estimate:  0\n",
       "  --------------\n",
       "  minimum time:     486.405 ns (0.00% GC)\n",
       "  median time:      492.749 ns (0.00% GC)\n",
       "  mean time:        522.156 ns (0.00% GC)\n",
       "  maximum time:     2.269 μs (0.00% GC)\n",
       "  --------------\n",
       "  samples:          10000\n",
       "  evals/sample:     195\n",
       "  time tolerance:   5.00%\n",
       "  memory tolerance: 1.00%"
      ]
     },
     "execution_count": 32,
     "metadata": {},
     "output_type": "execute_result"
    }
   ],
   "source": [
    "t1 = IdentityTransformation()\n",
    "t2 = Translation(SVector(1.0, 0 ,0))\n",
    "@benchmark EnhancedGJK.gjk!($cache, $t1, $t2)"
   ]
  },
  {
   "cell_type": "code",
   "execution_count": 33,
   "metadata": {
    "collapsed": false
   },
   "outputs": [
    {
     "data": {
      "text/plain": [
       "0.263719"
      ]
     },
     "execution_count": 33,
     "metadata": {},
     "output_type": "execute_result"
    }
   ],
   "source": [
    "foot_length = 0.172786 + 0.090933"
   ]
  },
  {
   "cell_type": "code",
   "execution_count": 38,
   "metadata": {
    "collapsed": false
   },
   "outputs": [
    {
     "data": {
      "text/plain": [
       "EnhancedGJK.GJKResult{4,3,Float64}(StaticArrays.SVector{3,Float64}[[0.01,-0.004611,-0.026484],[0.01,0.061285,-0.026484],[0.006764,-0.009499,0.020657],[-0.136998,-0.040025,0.088067]],EnhancedGJK.Difference{StaticArrays.SVector{3,Float64},StaticArrays.SVector{3,Float64}}([0.164332,0.00373543,-0.0518299],[-0.0893871,0.00373543,-0.0518299]),-0.008162791006989936)"
      ]
     },
     "execution_count": 38,
     "metadata": {},
     "output_type": "execute_result"
    }
   ],
   "source": [
    "expected_penetration = 0.01\n",
    "    result = EnhancedGJK.gjk!(cache, IdentityTransformation(), Translation(foot_length - expected_penetration, 0, 0))"
   ]
  },
  {
   "cell_type": "code",
   "execution_count": 39,
   "metadata": {
    "collapsed": false
   },
   "outputs": [
    {
     "data": {
      "text/plain": [
       "-0.008162791006989936"
      ]
     },
     "execution_count": 39,
     "metadata": {},
     "output_type": "execute_result"
    }
   ],
   "source": [
    "result.signed_distance"
   ]
  },
  {
   "cell_type": "code",
   "execution_count": null,
   "metadata": {
    "collapsed": true
   },
   "outputs": [],
   "source": []
  }
 ],
 "metadata": {
  "kernelspec": {
   "display_name": "Julia 0.5.0",
   "language": "julia",
   "name": "julia-0.5"
  },
  "language_info": {
   "file_extension": ".jl",
   "mimetype": "application/julia",
   "name": "julia",
   "version": "0.5.0"
  }
 },
 "nbformat": 4,
 "nbformat_minor": 0
}
