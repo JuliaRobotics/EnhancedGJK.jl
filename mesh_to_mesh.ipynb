{
 "cells": [
  {
   "cell_type": "code",
   "execution_count": 18,
   "metadata": {
    "collapsed": false
   },
   "outputs": [
    {
     "name": "stderr",
     "output_type": "stream",
     "text": [
      "WARNING: using StaticArrays.setindex in module Main conflicts with an existing identifier.\n"
     ]
    }
   ],
   "source": [
    "using MeshIO\n",
    "using FileIO\n",
    "using GeometryTypes\n",
    "using CoordinateTransformations\n",
    "using StaticArrays\n",
    "import EnhancedGJK"
   ]
  },
  {
   "cell_type": "code",
   "execution_count": 19,
   "metadata": {
    "collapsed": false
   },
   "outputs": [
    {
     "name": "stderr",
     "output_type": "stream",
     "text": [
      "WARNING: replacing module EnhancedGJK\n"
     ]
    }
   ],
   "source": [
    "reload(\"EnhancedGJK\")"
   ]
  },
  {
   "cell_type": "code",
   "execution_count": 20,
   "metadata": {
    "collapsed": false
   },
   "outputs": [
    {
     "data": {
      "text/plain": [
       "HomogenousMesh(\n",
       "    normals: 27xGeometryTypes.Normal{3,Float32},     vertices: 27xFixedSizeArrays.Point{3,Float32},     faces: 50xGeometryTypes.Face{3,UInt32,-1}, )\n"
      ]
     },
     "execution_count": 20,
     "metadata": {},
     "output_type": "execute_result"
    }
   ],
   "source": [
    "mesh = load(\"test/meshes/r_foot_chull.obj\")"
   ]
  },
  {
   "cell_type": "code",
   "execution_count": 21,
   "metadata": {
    "collapsed": false
   },
   "outputs": [
    {
     "data": {
      "text/plain": [
       "EnhancedGJK.Tagged{StaticArrays.SVector{3,Float32},Void}(Float32[0.032478,0.032456,-3.8f-5],nothing)"
      ]
     },
     "execution_count": 21,
     "metadata": {},
     "output_type": "execute_result"
    }
   ],
   "source": [
    "EnhancedGJK.any_inside(mesh)"
   ]
  },
  {
   "cell_type": "code",
   "execution_count": 22,
   "metadata": {
    "collapsed": false
   },
   "outputs": [],
   "source": [
    "cache = EnhancedGJK.CollisionCache(mesh, mesh);"
   ]
  },
  {
   "cell_type": "code",
   "execution_count": 23,
   "metadata": {
    "collapsed": false
   },
   "outputs": [
    {
     "data": {
      "text/plain": [
       "EnhancedGJK.GJKResult{4,3,Float64}(StaticArrays.SVector{3,Float64}[[-0.736281,-0.004611,-0.026484],[-0.73642,-0.056295,-0.027236],[-0.739517,0.075395,0.020657],[-0.736281,0.061285,-0.026484]],EnhancedGJK.Difference{StaticArrays.SVector{3,Float64},StaticArrays.SVector{3,Float64}}([0.172786,-0.030079,-0.055794],[-0.090933,-0.030079,-0.02931]),0.7367571604043536)"
      ]
     },
     "execution_count": 23,
     "metadata": {},
     "output_type": "execute_result"
    }
   ],
   "source": [
    "result = EnhancedGJK.gjk!(cache, IdentityTransformation(), Translation(SVector(1.0, 0, 0)) )"
   ]
  },
  {
   "cell_type": "code",
   "execution_count": 24,
   "metadata": {
    "collapsed": false
   },
   "outputs": [
    {
     "data": {
      "text/plain": [
       "0.7367571604043536"
      ]
     },
     "execution_count": 24,
     "metadata": {},
     "output_type": "execute_result"
    }
   ],
   "source": [
    "result.signed_distance"
   ]
  },
  {
   "cell_type": "code",
   "execution_count": 25,
   "metadata": {
    "collapsed": false
   },
   "outputs": [
    {
     "data": {
      "text/plain": [
       "0.736281"
      ]
     },
     "execution_count": 25,
     "metadata": {},
     "output_type": "execute_result"
    }
   ],
   "source": [
    "1.0 - (0.172786 + 0.090933)"
   ]
  },
  {
   "cell_type": "code",
   "execution_count": null,
   "metadata": {
    "collapsed": true
   },
   "outputs": [],
   "source": []
  }
 ],
 "metadata": {
  "kernelspec": {
   "display_name": "Julia 0.5.0",
   "language": "julia",
   "name": "julia-0.5"
  },
  "language_info": {
   "file_extension": ".jl",
   "mimetype": "application/julia",
   "name": "julia",
   "version": "0.5.0"
  }
 },
 "nbformat": 4,
 "nbformat_minor": 0
}
